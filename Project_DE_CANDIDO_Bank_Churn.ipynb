{
  "cells": [
    {
      "cell_type": "markdown",
      "metadata": {
        "id": "U9G31GzTneH-"
      },
      "source": [
        "# Importing the data"
      ]
    },
    {
      "cell_type": "code",
      "execution_count": 9,
      "metadata": {
        "id": "EXllmHlFhjY7"
      },
      "outputs": [],
      "source": [
        "# First we import the library we will need\n",
        "import numpy as np\n",
        "import pandas as pd\n",
        "#from google.colab import drive\n",
        "import tensorflow as tf\n",
        "#import torch\n",
        "#import torch.nn as nn\n",
        "from sklearn.metrics import confusion_matrix"
      ]
    },
    {
      "cell_type": "code",
      "execution_count": 12,
      "metadata": {
        "id": "YGAzqfqqjcbG"
      },
      "outputs": [],
      "source": [
        "# Define the file path and import the datas in a pandas dataframe named df\n",
        "path ='/home/splatch58/DSTI/ML_PythonLabs/DOCKER_PYTHON/python_code/Churn_Modelling.csv'"
      ]
    },
    {
      "cell_type": "code",
      "execution_count": 13,
      "metadata": {
        "colab": {
          "base_uri": "https://localhost:8080/",
          "height": 206
        },
        "id": "LHth9RME5d85",
        "outputId": "e4ef6b90-eef2-4a5e-f729-888a56655dac"
      },
      "outputs": [
        {
          "data": {
            "text/html": "<div>\n<style scoped>\n    .dataframe tbody tr th:only-of-type {\n        vertical-align: middle;\n    }\n\n    .dataframe tbody tr th {\n        vertical-align: top;\n    }\n\n    .dataframe thead th {\n        text-align: right;\n    }\n</style>\n<table border=\"1\" class=\"dataframe\">\n  <thead>\n    <tr style=\"text-align: right;\">\n      <th></th>\n      <th>RowNumber</th>\n      <th>CustomerId</th>\n      <th>Surname</th>\n      <th>CreditScore</th>\n      <th>Geography</th>\n      <th>Gender</th>\n      <th>Age</th>\n      <th>Tenure</th>\n      <th>Balance</th>\n      <th>NumOfProducts</th>\n      <th>HasCrCard</th>\n      <th>IsActiveMember</th>\n      <th>EstimatedSalary</th>\n      <th>Exited</th>\n    </tr>\n  </thead>\n  <tbody>\n    <tr>\n      <th>0</th>\n      <td>1</td>\n      <td>15634602</td>\n      <td>Hargrave</td>\n      <td>619</td>\n      <td>France</td>\n      <td>Female</td>\n      <td>42</td>\n      <td>2</td>\n      <td>0.00</td>\n      <td>1</td>\n      <td>1</td>\n      <td>1</td>\n      <td>101348.88</td>\n      <td>1</td>\n    </tr>\n    <tr>\n      <th>1</th>\n      <td>2</td>\n      <td>15647311</td>\n      <td>Hill</td>\n      <td>608</td>\n      <td>Spain</td>\n      <td>Female</td>\n      <td>41</td>\n      <td>1</td>\n      <td>83807.86</td>\n      <td>1</td>\n      <td>0</td>\n      <td>1</td>\n      <td>112542.58</td>\n      <td>0</td>\n    </tr>\n    <tr>\n      <th>2</th>\n      <td>3</td>\n      <td>15619304</td>\n      <td>Onio</td>\n      <td>502</td>\n      <td>France</td>\n      <td>Female</td>\n      <td>42</td>\n      <td>8</td>\n      <td>159660.80</td>\n      <td>3</td>\n      <td>1</td>\n      <td>0</td>\n      <td>113931.57</td>\n      <td>1</td>\n    </tr>\n    <tr>\n      <th>3</th>\n      <td>4</td>\n      <td>15701354</td>\n      <td>Boni</td>\n      <td>699</td>\n      <td>France</td>\n      <td>Female</td>\n      <td>39</td>\n      <td>1</td>\n      <td>0.00</td>\n      <td>2</td>\n      <td>0</td>\n      <td>0</td>\n      <td>93826.63</td>\n      <td>0</td>\n    </tr>\n    <tr>\n      <th>4</th>\n      <td>5</td>\n      <td>15737888</td>\n      <td>Mitchell</td>\n      <td>850</td>\n      <td>Spain</td>\n      <td>Female</td>\n      <td>43</td>\n      <td>2</td>\n      <td>125510.82</td>\n      <td>1</td>\n      <td>1</td>\n      <td>1</td>\n      <td>79084.10</td>\n      <td>0</td>\n    </tr>\n  </tbody>\n</table>\n</div>",
            "text/plain": "   RowNumber  CustomerId   Surname  CreditScore Geography  Gender  Age  \\\n0          1    15634602  Hargrave          619    France  Female   42   \n1          2    15647311      Hill          608     Spain  Female   41   \n2          3    15619304      Onio          502    France  Female   42   \n3          4    15701354      Boni          699    France  Female   39   \n4          5    15737888  Mitchell          850     Spain  Female   43   \n\n   Tenure    Balance  NumOfProducts  HasCrCard  IsActiveMember  \\\n0       2       0.00              1          1               1   \n1       1   83807.86              1          0               1   \n2       8  159660.80              3          1               0   \n3       1       0.00              2          0               0   \n4       2  125510.82              1          1               1   \n\n   EstimatedSalary  Exited  \n0        101348.88       1  \n1        112542.58       0  \n2        113931.57       1  \n3         93826.63       0  \n4         79084.10       0  "
          },
          "execution_count": 13,
          "metadata": {},
          "output_type": "execute_result"
        }
      ],
      "source": [
        "df = pd.read_csv(path)\n",
        "df.head()"
      ]
    },
    {
      "cell_type": "markdown",
      "metadata": {
        "id": "lfZ4BMwYnisA"
      },
      "source": [
        "# Analysing the dataset"
      ]
    },
    {
      "cell_type": "code",
      "execution_count": 6,
      "metadata": {
        "colab": {
          "base_uri": "https://localhost:8080/"
        },
        "id": "2e3gb729kDNO",
        "outputId": "f96f080c-db01-4708-99d2-b8d15101809e"
      },
      "outputs": [
        {
          "data": {
            "text/plain": "(10000, 14)"
          },
          "execution_count": 6,
          "metadata": {},
          "output_type": "execute_result"
        }
      ],
      "source": [
        "df.shape"
      ]
    },
    {
      "cell_type": "code",
      "execution_count": 7,
      "metadata": {},
      "outputs": [
        {
          "data": {
            "text/html": "<div>\n<style scoped>\n    .dataframe tbody tr th:only-of-type {\n        vertical-align: middle;\n    }\n\n    .dataframe tbody tr th {\n        vertical-align: top;\n    }\n\n    .dataframe thead th {\n        text-align: right;\n    }\n</style>\n<table border=\"1\" class=\"dataframe\">\n  <thead>\n    <tr style=\"text-align: right;\">\n      <th></th>\n      <th>RowNumber</th>\n      <th>CustomerId</th>\n      <th>Surname</th>\n      <th>CreditScore</th>\n      <th>Geography</th>\n      <th>Gender</th>\n      <th>Age</th>\n      <th>Tenure</th>\n      <th>Balance</th>\n      <th>NumOfProducts</th>\n      <th>HasCrCard</th>\n      <th>IsActiveMember</th>\n      <th>EstimatedSalary</th>\n      <th>Exited</th>\n    </tr>\n  </thead>\n  <tbody>\n    <tr>\n      <th>0</th>\n      <td>1</td>\n      <td>15634602</td>\n      <td>Hargrave</td>\n      <td>619</td>\n      <td>France</td>\n      <td>Female</td>\n      <td>42</td>\n      <td>2</td>\n      <td>0.00</td>\n      <td>1</td>\n      <td>1</td>\n      <td>1</td>\n      <td>101348.88</td>\n      <td>1</td>\n    </tr>\n    <tr>\n      <th>2</th>\n      <td>3</td>\n      <td>15619304</td>\n      <td>Onio</td>\n      <td>502</td>\n      <td>France</td>\n      <td>Female</td>\n      <td>42</td>\n      <td>8</td>\n      <td>159660.80</td>\n      <td>3</td>\n      <td>1</td>\n      <td>0</td>\n      <td>113931.57</td>\n      <td>1</td>\n    </tr>\n    <tr>\n      <th>5</th>\n      <td>6</td>\n      <td>15574012</td>\n      <td>Chu</td>\n      <td>645</td>\n      <td>Spain</td>\n      <td>Male</td>\n      <td>44</td>\n      <td>8</td>\n      <td>113755.78</td>\n      <td>2</td>\n      <td>1</td>\n      <td>0</td>\n      <td>149756.71</td>\n      <td>1</td>\n    </tr>\n    <tr>\n      <th>7</th>\n      <td>8</td>\n      <td>15656148</td>\n      <td>Obinna</td>\n      <td>376</td>\n      <td>Germany</td>\n      <td>Female</td>\n      <td>29</td>\n      <td>4</td>\n      <td>115046.74</td>\n      <td>4</td>\n      <td>1</td>\n      <td>0</td>\n      <td>119346.88</td>\n      <td>1</td>\n    </tr>\n    <tr>\n      <th>16</th>\n      <td>17</td>\n      <td>15737452</td>\n      <td>Romeo</td>\n      <td>653</td>\n      <td>Germany</td>\n      <td>Male</td>\n      <td>58</td>\n      <td>1</td>\n      <td>132602.88</td>\n      <td>1</td>\n      <td>1</td>\n      <td>0</td>\n      <td>5097.67</td>\n      <td>1</td>\n    </tr>\n    <tr>\n      <th>...</th>\n      <td>...</td>\n      <td>...</td>\n      <td>...</td>\n      <td>...</td>\n      <td>...</td>\n      <td>...</td>\n      <td>...</td>\n      <td>...</td>\n      <td>...</td>\n      <td>...</td>\n      <td>...</td>\n      <td>...</td>\n      <td>...</td>\n      <td>...</td>\n    </tr>\n    <tr>\n      <th>9981</th>\n      <td>9982</td>\n      <td>15672754</td>\n      <td>Burbidge</td>\n      <td>498</td>\n      <td>Germany</td>\n      <td>Male</td>\n      <td>42</td>\n      <td>3</td>\n      <td>152039.70</td>\n      <td>1</td>\n      <td>1</td>\n      <td>1</td>\n      <td>53445.17</td>\n      <td>1</td>\n    </tr>\n    <tr>\n      <th>9982</th>\n      <td>9983</td>\n      <td>15768163</td>\n      <td>Griffin</td>\n      <td>655</td>\n      <td>Germany</td>\n      <td>Female</td>\n      <td>46</td>\n      <td>7</td>\n      <td>137145.12</td>\n      <td>1</td>\n      <td>1</td>\n      <td>0</td>\n      <td>115146.40</td>\n      <td>1</td>\n    </tr>\n    <tr>\n      <th>9991</th>\n      <td>9992</td>\n      <td>15769959</td>\n      <td>Ajuluchukwu</td>\n      <td>597</td>\n      <td>France</td>\n      <td>Female</td>\n      <td>53</td>\n      <td>4</td>\n      <td>88381.21</td>\n      <td>1</td>\n      <td>1</td>\n      <td>0</td>\n      <td>69384.71</td>\n      <td>1</td>\n    </tr>\n    <tr>\n      <th>9997</th>\n      <td>9998</td>\n      <td>15584532</td>\n      <td>Liu</td>\n      <td>709</td>\n      <td>France</td>\n      <td>Female</td>\n      <td>36</td>\n      <td>7</td>\n      <td>0.00</td>\n      <td>1</td>\n      <td>0</td>\n      <td>1</td>\n      <td>42085.58</td>\n      <td>1</td>\n    </tr>\n    <tr>\n      <th>9998</th>\n      <td>9999</td>\n      <td>15682355</td>\n      <td>Sabbatini</td>\n      <td>772</td>\n      <td>Germany</td>\n      <td>Male</td>\n      <td>42</td>\n      <td>3</td>\n      <td>75075.31</td>\n      <td>2</td>\n      <td>1</td>\n      <td>0</td>\n      <td>92888.52</td>\n      <td>1</td>\n    </tr>\n  </tbody>\n</table>\n<p>2037 rows × 14 columns</p>\n</div>",
            "text/plain": "      RowNumber  CustomerId      Surname  CreditScore Geography  Gender  Age  \\\n0             1    15634602     Hargrave          619    France  Female   42   \n2             3    15619304         Onio          502    France  Female   42   \n5             6    15574012          Chu          645     Spain    Male   44   \n7             8    15656148       Obinna          376   Germany  Female   29   \n16           17    15737452        Romeo          653   Germany    Male   58   \n...         ...         ...          ...          ...       ...     ...  ...   \n9981       9982    15672754     Burbidge          498   Germany    Male   42   \n9982       9983    15768163      Griffin          655   Germany  Female   46   \n9991       9992    15769959  Ajuluchukwu          597    France  Female   53   \n9997       9998    15584532          Liu          709    France  Female   36   \n9998       9999    15682355    Sabbatini          772   Germany    Male   42   \n\n      Tenure    Balance  NumOfProducts  HasCrCard  IsActiveMember  \\\n0          2       0.00              1          1               1   \n2          8  159660.80              3          1               0   \n5          8  113755.78              2          1               0   \n7          4  115046.74              4          1               0   \n16         1  132602.88              1          1               0   \n...      ...        ...            ...        ...             ...   \n9981       3  152039.70              1          1               1   \n9982       7  137145.12              1          1               0   \n9991       4   88381.21              1          1               0   \n9997       7       0.00              1          0               1   \n9998       3   75075.31              2          1               0   \n\n      EstimatedSalary  Exited  \n0           101348.88       1  \n2           113931.57       1  \n5           149756.71       1  \n7           119346.88       1  \n16            5097.67       1  \n...               ...     ...  \n9981         53445.17       1  \n9982        115146.40       1  \n9991         69384.71       1  \n9997         42085.58       1  \n9998         92888.52       1  \n\n[2037 rows x 14 columns]"
          },
          "execution_count": 7,
          "metadata": {},
          "output_type": "execute_result"
        }
      ],
      "source": [
        "df[df['Exited']==1]"
      ]
    },
    {
      "cell_type": "markdown",
      "metadata": {
        "id": "0QVBlWsnnnpZ"
      },
      "source": [
        "we have 10 000 samples with 13 features (Rownumber is not considered as a usable feature)"
      ]
    },
    {
      "cell_type": "code",
      "execution_count": 7,
      "metadata": {
        "colab": {
          "base_uri": "https://localhost:8080/"
        },
        "id": "G9Y8Xpy6jjdy",
        "outputId": "70c71fad-04cc-46bf-98e7-c0a93d2388bc"
      },
      "outputs": [
        {
          "name": "stdout",
          "output_type": "stream",
          "text": [
            "<class 'pandas.core.frame.DataFrame'>\n",
            "RangeIndex: 10000 entries, 0 to 9999\n",
            "Data columns (total 14 columns):\n",
            " #   Column           Non-Null Count  Dtype  \n",
            "---  ------           --------------  -----  \n",
            " 0   RowNumber        10000 non-null  int64  \n",
            " 1   CustomerId       10000 non-null  int64  \n",
            " 2   Surname          10000 non-null  object \n",
            " 3   CreditScore      10000 non-null  int64  \n",
            " 4   Geography        10000 non-null  object \n",
            " 5   Gender           10000 non-null  object \n",
            " 6   Age              10000 non-null  int64  \n",
            " 7   Tenure           10000 non-null  int64  \n",
            " 8   Balance          10000 non-null  float64\n",
            " 9   NumOfProducts    10000 non-null  int64  \n",
            " 10  HasCrCard        10000 non-null  int64  \n",
            " 11  IsActiveMember   10000 non-null  int64  \n",
            " 12  EstimatedSalary  10000 non-null  float64\n",
            " 13  Exited           10000 non-null  int64  \n",
            "dtypes: float64(2), int64(9), object(3)\n",
            "memory usage: 1.1+ MB\n"
          ]
        }
      ],
      "source": [
        "df.info()"
      ]
    },
    {
      "cell_type": "markdown",
      "metadata": {
        "id": "qIYLl_toooN8"
      },
      "source": [
        "There is 3 categorical features (to be transformed later) and the remaining data are numerical features.\n",
        "Let's now check if there is some missing values."
      ]
    },
    {
      "cell_type": "code",
      "execution_count": 8,
      "metadata": {
        "colab": {
          "base_uri": "https://localhost:8080/"
        },
        "id": "iDImtoGqoluY",
        "outputId": "8f5e3137-cb47-4afa-f368-e051932f1e03"
      },
      "outputs": [
        {
          "data": {
            "text/plain": "RowNumber          0\nCustomerId         0\nSurname            0\nCreditScore        0\nGeography          0\nGender             0\nAge                0\nTenure             0\nBalance            0\nNumOfProducts      0\nHasCrCard          0\nIsActiveMember     0\nEstimatedSalary    0\nExited             0\ndtype: int64"
          },
          "execution_count": 8,
          "metadata": {},
          "output_type": "execute_result"
        }
      ],
      "source": [
        "df.isnull().sum()"
      ]
    },
    {
      "cell_type": "markdown",
      "metadata": {
        "id": "xte29dXP-wO-"
      },
      "source": [
        "Let's check the number of unique value."
      ]
    },
    {
      "cell_type": "code",
      "execution_count": 9,
      "metadata": {
        "colab": {
          "base_uri": "https://localhost:8080/"
        },
        "id": "VpW_CxPi-fwL",
        "outputId": "9f2aa143-d624-4610-f924-80ddce15654a"
      },
      "outputs": [
        {
          "data": {
            "text/plain": "RowNumber          10000\nCustomerId         10000\nSurname             2932\nCreditScore          460\nGeography              3\nGender                 2\nAge                   70\nTenure                11\nBalance             6382\nNumOfProducts          4\nHasCrCard              2\nIsActiveMember         2\nEstimatedSalary     9999\nExited                 2\ndtype: int64"
          },
          "execution_count": 9,
          "metadata": {},
          "output_type": "execute_result"
        }
      ],
      "source": [
        "df.nunique()"
      ]
    },
    {
      "cell_type": "markdown",
      "metadata": {
        "id": "5zfziGHIstnA"
      },
      "source": [
        "We map the gender columns as a binary value because we can't use an object/categorical data as an input for the model.\n",
        "We also one-hot encode the Geography feature so that we can use these categorical features in a model.\n",
        "\n",
        "We then remove the unneeded columns ('RowNumber','CustomerId','Surname': because they are not usabel for the model, 'Exited' because it is the label (Y)  and 'Geography' because we just one-hot encoded it) and create the X dataset and the label dataset (Y) (we are working on a supervised model)."
      ]
    },
    {
      "cell_type": "code",
      "execution_count": 10,
      "metadata": {
        "id": "FU-Ml6zni0JP"
      },
      "outputs": [],
      "source": [
        "df['Gender'] = df['Gender'].map({'Female': 0, 'Male':1}) # mapping gender\n",
        "df = pd.concat([df,pd.get_dummies(df['Geography'], prefix = 'country',\n",
        "              drop_first= True)], axis = 1) # One-hot encoding Geography feature\n",
        "\n",
        "df_X = df.drop(['Geography','Exited','RowNumber','CustomerId','Surname'],\n",
        "            axis = 1)\n",
        "X = df_X.values # creating X dataset\n",
        "Y = df['Exited'].values # creating Y label"
      ]
    },
    {
      "cell_type": "code",
      "execution_count": 11,
      "metadata": {
        "colab": {
          "base_uri": "https://localhost:8080/"
        },
        "id": "QY2lK7wwxy67",
        "outputId": "248bf3fe-5072-41b2-9db0-c51bb13c89b0"
      },
      "outputs": [
        {
          "name": "stdout",
          "output_type": "stream",
          "text": [
            "(10000, 11) (10000,) <class 'numpy.ndarray'> <class 'numpy.ndarray'>\n"
          ]
        }
      ],
      "source": [
        "print(X.shape, Y.shape, type(X), type(Y))"
      ]
    },
    {
      "cell_type": "markdown",
      "metadata": {
        "id": "tCjXdgWWE1V-"
      },
      "source": [
        "# Modelling\n",
        "First we split the datas in train / test  dataset"
      ]
    },
    {
      "cell_type": "code",
      "execution_count": 12,
      "metadata": {
        "id": "YtGNPRIL9EHn"
      },
      "outputs": [],
      "source": [
        "#split the data into training and test set (20% for the test set)\n",
        "\n",
        "from sklearn.model_selection import train_test_split\n",
        "X_train, X_test, Y_train, Y_test = train_test_split(X, Y, test_size=0.2,\n",
        "                                                    random_state = 10)\n",
        "# we use random_state to make sure spliting contains the same data each time\n",
        "# (the train/test dataset will have the same rows each time)"
      ]
    },
    {
      "cell_type": "code",
      "execution_count": 13,
      "metadata": {
        "colab": {
          "base_uri": "https://localhost:8080/"
        },
        "id": "5HsnMazqPcL8",
        "outputId": "8f1409bb-8163-4dba-b704-7d9b568d8063"
      },
      "outputs": [
        {
          "data": {
            "text/plain": "array([0, 0, 0, ..., 1, 0, 1])"
          },
          "execution_count": 13,
          "metadata": {},
          "output_type": "execute_result"
        }
      ],
      "source": [
        "Y_train"
      ]
    },
    {
      "cell_type": "code",
      "execution_count": 14,
      "metadata": {
        "id": "VXP0DJZp9dbW"
      },
      "outputs": [],
      "source": [
        "# standardize the data (x_standardised = (x - x_mean)/std_dev)\n",
        "\n",
        "from sklearn.preprocessing import StandardScaler\n",
        "sc = StandardScaler()\n",
        "X_train = sc.fit_transform(X_train)\n",
        "X_test = sc.transform(X_test) # we use the scale set calculated from the\n",
        "# training set just above and we apply it to transform the test set"
      ]
    },
    {
      "cell_type": "markdown",
      "metadata": {},
      "source": [
        "Let's try ANN with tensorflow"
      ]
    },
    {
      "cell_type": "code",
      "execution_count": null,
      "metadata": {},
      "outputs": [
        {
          "name": "stdout",
          "output_type": "stream",
          "text": [
            "Epoch 1/100\n",
            "800/800 - 4s - loss: 0.4890 - accuracy: 0.7977\n",
            "Epoch 2/100\n",
            "800/800 - 4s - loss: 0.4234 - accuracy: 0.7981\n",
            "Epoch 3/100\n",
            "800/800 - 4s - loss: 0.4165 - accuracy: 0.8166\n",
            "Epoch 4/100\n",
            "800/800 - 4s - loss: 0.4104 - accuracy: 0.8322\n",
            "Epoch 5/100\n",
            "800/800 - 4s - loss: 0.4054 - accuracy: 0.8356\n",
            "Epoch 6/100\n",
            "800/800 - 6s - loss: 0.4019 - accuracy: 0.8375\n",
            "Epoch 7/100\n",
            "800/800 - 6s - loss: 0.3993 - accuracy: 0.8375\n",
            "Epoch 8/100\n",
            "800/800 - 8s - loss: 0.3980 - accuracy: 0.8380\n",
            "Epoch 9/100\n",
            "800/800 - 6s - loss: 0.3967 - accuracy: 0.8395\n",
            "Epoch 10/100\n",
            "800/800 - 3s - loss: 0.3956 - accuracy: 0.8394\n",
            "Epoch 11/100\n",
            "800/800 - 4s - loss: 0.3948 - accuracy: 0.8385\n",
            "Epoch 12/100\n",
            "800/800 - 4s - loss: 0.3942 - accuracy: 0.8380\n",
            "Epoch 13/100\n",
            "800/800 - 6s - loss: 0.3933 - accuracy: 0.8395\n",
            "Epoch 14/100\n",
            "800/800 - 5s - loss: 0.3928 - accuracy: 0.8413\n",
            "Epoch 15/100\n",
            "800/800 - 5s - loss: 0.3922 - accuracy: 0.8389\n",
            "Epoch 16/100\n",
            "800/800 - 6s - loss: 0.3924 - accuracy: 0.8389\n",
            "Epoch 17/100\n",
            "800/800 - 4s - loss: 0.3915 - accuracy: 0.8390\n",
            "Epoch 18/100\n",
            "800/800 - 4s - loss: 0.3913 - accuracy: 0.8380\n",
            "Epoch 19/100\n",
            "800/800 - 4s - loss: 0.3912 - accuracy: 0.8393\n",
            "Epoch 20/100\n",
            "800/800 - 3s - loss: 0.3907 - accuracy: 0.8388\n",
            "Epoch 21/100\n",
            "800/800 - 4s - loss: 0.3902 - accuracy: 0.8407\n",
            "Epoch 22/100\n",
            "800/800 - 4s - loss: 0.3902 - accuracy: 0.8401\n",
            "Epoch 23/100\n",
            "800/800 - 5s - loss: 0.3904 - accuracy: 0.8403\n",
            "Epoch 24/100\n",
            "800/800 - 5s - loss: 0.3899 - accuracy: 0.8399\n",
            "Epoch 25/100\n",
            "800/800 - 5s - loss: 0.3898 - accuracy: 0.8418\n",
            "Epoch 26/100\n",
            "800/800 - 5s - loss: 0.3892 - accuracy: 0.8413\n",
            "Epoch 27/100\n",
            "800/800 - 7s - loss: 0.3891 - accuracy: 0.8405\n",
            "Epoch 28/100\n",
            "800/800 - 6s - loss: 0.3889 - accuracy: 0.8410\n",
            "Epoch 29/100\n",
            "800/800 - 5s - loss: 0.3892 - accuracy: 0.8420\n",
            "Epoch 30/100\n",
            "800/800 - 5s - loss: 0.3886 - accuracy: 0.8430\n",
            "Epoch 31/100\n",
            "800/800 - 4s - loss: 0.3888 - accuracy: 0.8399\n",
            "Epoch 32/100\n",
            "800/800 - 5s - loss: 0.3887 - accuracy: 0.8432\n",
            "Epoch 33/100\n",
            "800/800 - 5s - loss: 0.3882 - accuracy: 0.8419\n",
            "Epoch 34/100\n",
            "800/800 - 5s - loss: 0.3879 - accuracy: 0.8428\n",
            "Epoch 35/100\n",
            "800/800 - 6s - loss: 0.3882 - accuracy: 0.8420\n",
            "Epoch 36/100\n",
            "800/800 - 5s - loss: 0.3882 - accuracy: 0.8428\n",
            "Epoch 37/100\n",
            "800/800 - 4s - loss: 0.3872 - accuracy: 0.8435\n",
            "Epoch 38/100\n",
            "800/800 - 4s - loss: 0.3876 - accuracy: 0.8425\n",
            "Epoch 39/100\n",
            "800/800 - 5s - loss: 0.3874 - accuracy: 0.8431\n",
            "Epoch 40/100\n",
            "800/800 - 6s - loss: 0.3873 - accuracy: 0.8430\n",
            "Epoch 41/100\n",
            "800/800 - 5s - loss: 0.3875 - accuracy: 0.8429\n",
            "Epoch 42/100\n",
            "800/800 - 7s - loss: 0.3872 - accuracy: 0.8424\n",
            "Epoch 43/100\n",
            "800/800 - 7s - loss: 0.3873 - accuracy: 0.8424\n",
            "Epoch 44/100\n",
            "800/800 - 4s - loss: 0.3870 - accuracy: 0.8411\n",
            "Epoch 45/100\n",
            "800/800 - 6s - loss: 0.3871 - accuracy: 0.8434\n",
            "Epoch 46/100\n",
            "800/800 - 6s - loss: 0.3870 - accuracy: 0.8403\n",
            "Epoch 47/100\n",
            "800/800 - 7s - loss: 0.3867 - accuracy: 0.8428\n",
            "Epoch 48/100\n",
            "800/800 - 5s - loss: 0.3871 - accuracy: 0.8429\n",
            "Epoch 49/100\n",
            "800/800 - 3s - loss: 0.3866 - accuracy: 0.8429\n",
            "Epoch 50/100\n",
            "800/800 - 5s - loss: 0.3860 - accuracy: 0.8432\n",
            "Epoch 51/100\n",
            "800/800 - 7s - loss: 0.3865 - accuracy: 0.8438\n",
            "Epoch 52/100\n",
            "800/800 - 8s - loss: 0.3859 - accuracy: 0.8434\n",
            "Epoch 53/100\n",
            "800/800 - 6s - loss: 0.3858 - accuracy: 0.8431\n",
            "Epoch 54/100\n",
            "800/800 - 5s - loss: 0.3851 - accuracy: 0.8426\n",
            "Epoch 55/100\n",
            "800/800 - 4s - loss: 0.3852 - accuracy: 0.8434\n",
            "Epoch 56/100\n",
            "800/800 - 5s - loss: 0.3840 - accuracy: 0.8438\n",
            "Epoch 57/100\n",
            "800/800 - 10s - loss: 0.3827 - accuracy: 0.8445\n",
            "Epoch 58/100\n",
            "800/800 - 6s - loss: 0.3803 - accuracy: 0.8451\n",
            "Epoch 59/100\n",
            "800/800 - 7s - loss: 0.3755 - accuracy: 0.8480\n",
            "Epoch 60/100\n",
            "800/800 - 4s - loss: 0.3689 - accuracy: 0.8506\n",
            "Epoch 61/100\n",
            "800/800 - 5s - loss: 0.3600 - accuracy: 0.8574\n",
            "Epoch 62/100\n",
            "800/800 - 7s - loss: 0.3522 - accuracy: 0.8618\n",
            "Epoch 63/100\n",
            "800/800 - 9s - loss: 0.3461 - accuracy: 0.8645\n",
            "Epoch 64/100\n",
            "800/800 - 6s - loss: 0.3431 - accuracy: 0.8633\n",
            "Epoch 65/100\n",
            "800/800 - 4s - loss: 0.3411 - accuracy: 0.8641\n",
            "Epoch 66/100\n",
            "800/800 - 6s - loss: 0.3385 - accuracy: 0.8636\n",
            "Epoch 67/100\n",
            "800/800 - 5s - loss: 0.3381 - accuracy: 0.8643\n",
            "Epoch 68/100\n",
            "800/800 - 6s - loss: 0.3370 - accuracy: 0.8619\n",
            "Epoch 69/100\n",
            "800/800 - 6s - loss: 0.3349 - accuracy: 0.8646\n",
            "Epoch 70/100\n",
            "800/800 - 4s - loss: 0.3353 - accuracy: 0.8621\n",
            "Epoch 71/100\n",
            "800/800 - 4s - loss: 0.3342 - accuracy: 0.8635\n",
            "Epoch 72/100\n",
            "800/800 - 4s - loss: 0.3339 - accuracy: 0.8631\n",
            "Epoch 73/100\n",
            "800/800 - 6s - loss: 0.3340 - accuracy: 0.8644\n",
            "Epoch 74/100\n",
            "800/800 - 6s - loss: 0.3334 - accuracy: 0.8637\n",
            "Epoch 75/100\n",
            "800/800 - 6s - loss: 0.3330 - accuracy: 0.8661\n",
            "Epoch 76/100\n",
            "800/800 - 5s - loss: 0.3329 - accuracy: 0.8635\n",
            "Epoch 77/100\n",
            "800/800 - 5s - loss: 0.3324 - accuracy: 0.8637\n",
            "Epoch 78/100\n",
            "800/800 - 5s - loss: 0.3327 - accuracy: 0.8618\n",
            "Epoch 79/100\n",
            "800/800 - 5s - loss: 0.3336 - accuracy: 0.8633\n",
            "Epoch 80/100\n",
            "800/800 - 5s - loss: 0.3326 - accuracy: 0.8655\n",
            "Epoch 81/100\n",
            "800/800 - 5s - loss: 0.3318 - accuracy: 0.8643\n",
            "Epoch 82/100\n",
            "800/800 - 6s - loss: 0.3317 - accuracy: 0.8649\n",
            "Epoch 83/100\n",
            "800/800 - 5s - loss: 0.3318 - accuracy: 0.8639\n",
            "Epoch 84/100\n",
            "800/800 - 5s - loss: 0.3314 - accuracy: 0.8646\n",
            "Epoch 85/100\n",
            "800/800 - 6s - loss: 0.3319 - accuracy: 0.8643\n",
            "Epoch 86/100\n",
            "800/800 - 6s - loss: 0.3314 - accuracy: 0.8643\n",
            "Epoch 87/100\n",
            "800/800 - 6s - loss: 0.3320 - accuracy: 0.8633\n",
            "Epoch 88/100\n",
            "800/800 - 4s - loss: 0.3318 - accuracy: 0.8636\n",
            "Epoch 89/100\n",
            "800/800 - 4s - loss: 0.3313 - accuracy: 0.8621\n",
            "Epoch 90/100\n",
            "800/800 - 4s - loss: 0.3309 - accuracy: 0.8641\n",
            "Epoch 91/100\n",
            "800/800 - 5s - loss: 0.3308 - accuracy: 0.8646\n",
            "Epoch 92/100\n",
            "800/800 - 5s - loss: 0.3315 - accuracy: 0.8631\n",
            "Epoch 93/100\n",
            "800/800 - 6s - loss: 0.3309 - accuracy: 0.8644\n",
            "Epoch 94/100\n",
            "800/800 - 5s - loss: 0.3304 - accuracy: 0.8634\n",
            "Epoch 95/100\n",
            "800/800 - 8s - loss: 0.3308 - accuracy: 0.8639\n",
            "Epoch 96/100\n",
            "800/800 - 6s - loss: 0.3309 - accuracy: 0.8626\n",
            "Epoch 97/100\n",
            "800/800 - 6s - loss: 0.3317 - accuracy: 0.8626\n",
            "Epoch 98/100\n",
            "800/800 - 7s - loss: 0.3307 - accuracy: 0.8634\n",
            "Epoch 99/100\n",
            "800/800 - 5s - loss: 0.3307 - accuracy: 0.8652\n",
            "Epoch 100/100\n",
            "800/800 - 6s - loss: 0.3308 - accuracy: 0.8641\n"
          ]
        }
      ],
      "source": [
        "model = tf.keras.models.Sequential()\n",
        "\n",
        "#add input layer  and first hidden layer\n",
        "model.add(tf.keras.layers.Dense(units = 6, kernel_initializer = 'uniform', activation = 'relu')) #initializer=uniform means to all the weights will initialized with the same value\n",
        "\n",
        "#xxx.Dense means that every node is connected with the nodes next to himself\n",
        "\n",
        "#add 2nd hidden layer\n",
        "model.add(tf.keras.layers.Dense(units = 6, kernel_initializer='uniform', activation = 'relu'))\n",
        "\n",
        "# Add output layer\n",
        "model.add(tf.keras.layers.Dense(units = 1, kernel_initializer='uniform', activation='sigmoid')) # sigmoid for binary, Softmax for multiclass\n",
        "\n",
        "# compilation\n",
        "model.compile(optimizer = 'adam', loss = 'binary_crossentropy', metrics = ['accuracy'])\n",
        "\n",
        "# Training\n",
        "history = model.fit(X_train, Y_train, batch_size  = 10, epochs = 100, verbose = 2)"
      ]
    },
    {
      "cell_type": "code",
      "execution_count": null,
      "metadata": {},
      "outputs": [
        {
          "name": "stdout",
          "output_type": "stream",
          "text": [
            "[[1495  215]\n",
            " [  83  207]]\n",
            "0.85\n"
          ]
        }
      ],
      "source": [
        "y_ann_pred = model.predict(X_test)\n",
        "y_ann_pred = (y_ann_pred > 0.5)\n",
        "cm_ann = confusion_matrix(y_ann_pred, Y_test)\n",
        "\n",
        "accuracy_ann = round(model.evaluate(X_test, Y_test, verbose = False)[1],2)\n",
        "\n",
        "print(cm_ann)\n",
        "print(accuracy_ann)"
      ]
    },
    {
      "cell_type": "markdown",
      "metadata": {
        "id": "2rRVfKEnBo17"
      },
      "source": [
        "We will use pytorch so we transform the train/test dataset and labels as tensor."
      ]
    },
    {
      "cell_type": "code",
      "execution_count": 14,
      "metadata": {
        "id": "iamSZQeLGBHj"
      },
      "outputs": [],
      "source": [
        "X_train = torch.from_numpy(X_train.astype(np.float32))\n",
        "Y_train = torch.from_numpy(Y_train.astype(np.float32))\n",
        "\n",
        "X_test = torch.from_numpy(X_test.astype(np.float32))\n",
        "Y_test = torch.from_numpy(Y_test.astype(np.float32))"
      ]
    },
    {
      "cell_type": "code",
      "execution_count": 15,
      "metadata": {
        "id": "_1ihCChYbde4"
      },
      "outputs": [],
      "source": [
        "# Here we flatten the labels in order to get\n",
        "# the right input dimension in the model\n",
        "Y_train = Y_train.view(-1,1)\n",
        "Y_test = Y_test.view(-1,1)"
      ]
    },
    {
      "cell_type": "code",
      "execution_count": 16,
      "metadata": {
        "id": "3arjaunQQz_G"
      },
      "outputs": [],
      "source": [
        "D_in = X_train.shape[1] # This is the number of features of our X dataset\n",
        "H1 = 15\n",
        "H2 = 6\n",
        "H3 = 4\n",
        "D_out = 1 # This is our binary output\n",
        "\n",
        "# Defining the model: we choose here a two hidden layers with 15 and 6 neurons\n",
        "# with ReLU activation functions for the hidden layers and sigmoid function for\n",
        "# the output layer which is ideal for binary output\n",
        "\n",
        "model = nn.Sequential(\n",
        "    nn.Linear(D_in, H1),\n",
        "    nn.ReLU(),\n",
        "    nn.Linear(H1, H2),\n",
        "    nn.ReLU(),\n",
        "    nn.Linear(H2, H3),\n",
        "    nn.ReLU(),\n",
        "    nn.Linear(H3, D_out),\n",
        "    nn.Sigmoid()\n",
        ")\n",
        "\n",
        "# Defining the loss function: we choose the binary cross entropy which is ideal\n",
        "# for binary classification problem like ours\n",
        "loss_fn = nn.BCELoss()\n",
        "\n",
        "# Defining the optimizer: ADAM optimizer is chosen here\n",
        "learning_rate = 1e-2\n",
        "optimizer = torch.optim.Adam(model.parameters(), lr = learning_rate)"
      ]
    },
    {
      "cell_type": "markdown",
      "metadata": {
        "id": "7H6Y6cFpG_lb"
      },
      "source": []
    },
    {
      "cell_type": "code",
      "execution_count": null,
      "metadata": {
        "colab": {
          "base_uri": "https://localhost:8080/"
        },
        "id": "M_CHk3SNTVQx",
        "outputId": "45c114ca-30aa-4d64-a98a-dafae4dac4ad"
      },
      "outputs": [],
      "source": [
        "batch_size = X_train.shape[0]\n",
        "N_iter = 3 * batch_size\n",
        "log_interval = 200\n",
        "\n",
        "# Training the model\n",
        "iter = 0\n",
        "\n",
        "for iter in range(N_iter):\n",
        "  y_pred = model(X_train.float())\n",
        "  loss = loss_fn(input = y_pred, target = Y_train)\n",
        "  optimizer.zero_grad()\n",
        "  loss.backward()\n",
        "  optimizer.step()\n",
        "\n",
        "  epoch = 0\n",
        "  if iter % batch_size == 0:\n",
        "    epoch = epoch + 1\n",
        "\n",
        "    y_pred = model(X_test)>0.5\n",
        "    cm = confusion_matrix(y_pred, Y_test)\n",
        "    accuracy = round((cm[0,0] + cm[1,1])/ len(Y_test),2)\n",
        "\n",
        "    print(f'\\nEpoch {int(iter / batch_size + 1)} \\t Loss: {round(loss.item(), 4)} \\t Accuracy: {accuracy * 100} %')\n",
        "\n"
      ]
    },
    {
      "cell_type": "code",
      "execution_count": 1,
      "metadata": {},
      "outputs": [],
      "source": []
    },
    {
      "cell_type": "markdown",
      "metadata": {
        "id": "jYYzJ89RpMpS"
      },
      "source": [
        "Let's try logistic regression"
      ]
    },
    {
      "cell_type": "code",
      "execution_count": 18,
      "metadata": {
        "colab": {
          "base_uri": "https://localhost:8080/"
        },
        "id": "DGCDrzbBnc-6",
        "outputId": "a061efcf-707c-46b0-fd9c-d729d940d27f"
      },
      "outputs": [
        {
          "name": "stdout",
          "output_type": "stream",
          "text": [
            "Logistic regression accuracy: 0.7995\n"
          ]
        }
      ],
      "source": [
        "from sklearn.linear_model import LogisticRegression\n",
        "logisticRegr = LogisticRegression() # create the model\n",
        "logisticRegr.fit(X_train, Y_train.reshape(8000)) # train the model\n",
        "\n",
        "accuracy_log = logisticRegr.score(X_test, Y_test)\n",
        "\n",
        "print(f'Logistic regression accuracy: {accuracy_log}')"
      ]
    },
    {
      "cell_type": "code",
      "execution_count": 30,
      "metadata": {},
      "outputs": [
        {
          "data": {
            "text/plain": "array([[1515,  338],\n       [  63,   84]])"
          },
          "execution_count": 30,
          "metadata": {},
          "output_type": "execute_result"
        }
      ],
      "source": [
        "y_log_pred = logisticRegr.predict(X_test)\n",
        "cm_logistic = confusion_matrix(y_log_pred, Y_test)\n",
        "cm_logistic"
      ]
    },
    {
      "cell_type": "markdown",
      "metadata": {
        "id": "nO-yE_Rbt0YO"
      },
      "source": [
        "This model is less accurate than the ANN."
      ]
    },
    {
      "cell_type": "code",
      "execution_count": 32,
      "metadata": {
        "colab": {
          "base_uri": "https://localhost:8080/"
        },
        "id": "IUzhU8spwxrw",
        "outputId": "407f132a-556e-4dfc-ca7c-147d5e01899a"
      },
      "outputs": [
        {
          "name": "stdout",
          "output_type": "stream",
          "text": [
            "KNN accuracy: 0.8205\n",
            "[[1490  271]\n",
            " [  88  151]]\n"
          ]
        }
      ],
      "source": [
        "from sklearn.neighbors import KNeighborsClassifier\n",
        "knn = KNeighborsClassifier() # create the model\n",
        "knn.fit(X_train, Y_train.reshape(8000)) # train the model\n",
        "\n",
        "accuracy_knn = knn.score(X_test, Y_test)\n",
        "print(f'KNN accuracy: {accuracy_knn}')\n",
        "\n",
        "\n",
        "y_knn_pred = knn.predict(X_test)\n",
        "cm_knn = confusion_matrix(y_knn_pred, Y_test)\n",
        "print(cm_knn)\n"
      ]
    },
    {
      "cell_type": "markdown",
      "metadata": {
        "id": "Ja9doIEnEx-R"
      },
      "source": [
        "Let's try a decision tree, naive bayes, support vector machine"
      ]
    },
    {
      "cell_type": "code",
      "execution_count": 20,
      "metadata": {
        "id": "Xw3dFJDqEv81"
      },
      "outputs": [],
      "source": [
        "new_customer1 = [[619, 0, 42, 2, 0, 1,1,1, 101348, 0, 0]]\n",
        "new_customer1 = sc.transform(new_customer1)\n",
        "new_customer1 = torch.from_numpy(new_customer1.astype(np.float32))\n",
        "\n",
        "new_customer2 = [[824, 1, 49, 8, 133231, 1,1,1, 67885, 1, 0]]\n",
        "new_customer2 = sc.transform(new_customer2)\n",
        "new_customer2 = torch.from_numpy(new_customer2.astype(np.float32))\n"
      ]
    },
    {
      "cell_type": "code",
      "execution_count": 21,
      "metadata": {},
      "outputs": [
        {
          "name": "stdout",
          "output_type": "stream",
          "text": [
            "tensor([[0.2776]], grad_fn=<SigmoidBackward0>) tensor([[0.4036]], grad_fn=<SigmoidBackward0>)\n"
          ]
        }
      ],
      "source": [
        "print(model(new_customer1), model(new_customer2))"
      ]
    },
    {
      "cell_type": "code",
      "execution_count": 22,
      "metadata": {},
      "outputs": [
        {
          "data": {
            "text/plain": "tensor([[0.4086],\n        [0.0631],\n        [0.0084],\n        ...,\n        [0.1156],\n        [0.1226],\n        [0.3905]], grad_fn=<SigmoidBackward0>)"
          },
          "execution_count": 22,
          "metadata": {},
          "output_type": "execute_result"
        }
      ],
      "source": [
        "y_pred"
      ]
    },
    {
      "cell_type": "markdown",
      "metadata": {},
      "source": [
        "We finally choose the ANN model because it gives more accurate predictions"
      ]
    },
    {
      "cell_type": "code",
      "execution_count": null,
      "metadata": {},
      "outputs": [],
      "source": []
    },
    {
      "cell_type": "code",
      "execution_count": 23,
      "metadata": {},
      "outputs": [
        {
          "name": "stdout",
          "output_type": "stream",
          "text": [
            "tensor([ 1.4487,  0.9126, -0.2827,  0.3461,  0.5570, -0.9187,  0.6401,  0.9753,\n",
            "         1.5626, -0.5766, -0.5739]) tensor([0.])\n"
          ]
        }
      ],
      "source": [
        "print(X_test[10],Y_test[10])"
      ]
    },
    {
      "cell_type": "code",
      "execution_count": 24,
      "metadata": {},
      "outputs": [
        {
          "data": {
            "text/plain": "422"
          },
          "execution_count": 24,
          "metadata": {},
          "output_type": "execute_result"
        }
      ],
      "source": [
        "len(Y_test[Y_test==1])"
      ]
    },
    {
      "cell_type": "code",
      "execution_count": 25,
      "metadata": {},
      "outputs": [
        {
          "data": {
            "text/html": "<div>\n<style scoped>\n    .dataframe tbody tr th:only-of-type {\n        vertical-align: middle;\n    }\n\n    .dataframe tbody tr th {\n        vertical-align: top;\n    }\n\n    .dataframe thead th {\n        text-align: right;\n    }\n</style>\n<table border=\"1\" class=\"dataframe\">\n  <thead>\n    <tr style=\"text-align: right;\">\n      <th></th>\n      <th>RowNumber</th>\n      <th>CustomerId</th>\n      <th>Surname</th>\n      <th>CreditScore</th>\n      <th>Geography</th>\n      <th>Gender</th>\n      <th>Age</th>\n      <th>Tenure</th>\n      <th>Balance</th>\n      <th>NumOfProducts</th>\n      <th>HasCrCard</th>\n      <th>IsActiveMember</th>\n      <th>EstimatedSalary</th>\n      <th>Exited</th>\n      <th>country_Germany</th>\n      <th>country_Spain</th>\n    </tr>\n  </thead>\n  <tbody>\n    <tr>\n      <th>0</th>\n      <td>1</td>\n      <td>15634602</td>\n      <td>Hargrave</td>\n      <td>619</td>\n      <td>France</td>\n      <td>0</td>\n      <td>42</td>\n      <td>2</td>\n      <td>0.00</td>\n      <td>1</td>\n      <td>1</td>\n      <td>1</td>\n      <td>101348.88</td>\n      <td>1</td>\n      <td>0</td>\n      <td>0</td>\n    </tr>\n    <tr>\n      <th>1</th>\n      <td>2</td>\n      <td>15647311</td>\n      <td>Hill</td>\n      <td>608</td>\n      <td>Spain</td>\n      <td>0</td>\n      <td>41</td>\n      <td>1</td>\n      <td>83807.86</td>\n      <td>1</td>\n      <td>0</td>\n      <td>1</td>\n      <td>112542.58</td>\n      <td>0</td>\n      <td>0</td>\n      <td>1</td>\n    </tr>\n    <tr>\n      <th>2</th>\n      <td>3</td>\n      <td>15619304</td>\n      <td>Onio</td>\n      <td>502</td>\n      <td>France</td>\n      <td>0</td>\n      <td>42</td>\n      <td>8</td>\n      <td>159660.80</td>\n      <td>3</td>\n      <td>1</td>\n      <td>0</td>\n      <td>113931.57</td>\n      <td>1</td>\n      <td>0</td>\n      <td>0</td>\n    </tr>\n    <tr>\n      <th>3</th>\n      <td>4</td>\n      <td>15701354</td>\n      <td>Boni</td>\n      <td>699</td>\n      <td>France</td>\n      <td>0</td>\n      <td>39</td>\n      <td>1</td>\n      <td>0.00</td>\n      <td>2</td>\n      <td>0</td>\n      <td>0</td>\n      <td>93826.63</td>\n      <td>0</td>\n      <td>0</td>\n      <td>0</td>\n    </tr>\n    <tr>\n      <th>4</th>\n      <td>5</td>\n      <td>15737888</td>\n      <td>Mitchell</td>\n      <td>850</td>\n      <td>Spain</td>\n      <td>0</td>\n      <td>43</td>\n      <td>2</td>\n      <td>125510.82</td>\n      <td>1</td>\n      <td>1</td>\n      <td>1</td>\n      <td>79084.10</td>\n      <td>0</td>\n      <td>0</td>\n      <td>1</td>\n    </tr>\n  </tbody>\n</table>\n</div>",
            "text/plain": "   RowNumber  CustomerId   Surname  CreditScore Geography  Gender  Age  \\\n0          1    15634602  Hargrave          619    France       0   42   \n1          2    15647311      Hill          608     Spain       0   41   \n2          3    15619304      Onio          502    France       0   42   \n3          4    15701354      Boni          699    France       0   39   \n4          5    15737888  Mitchell          850     Spain       0   43   \n\n   Tenure    Balance  NumOfProducts  HasCrCard  IsActiveMember  \\\n0       2       0.00              1          1               1   \n1       1   83807.86              1          0               1   \n2       8  159660.80              3          1               0   \n3       1       0.00              2          0               0   \n4       2  125510.82              1          1               1   \n\n   EstimatedSalary  Exited  country_Germany  country_Spain  \n0        101348.88       1                0              0  \n1        112542.58       0                0              1  \n2        113931.57       1                0              0  \n3         93826.63       0                0              0  \n4         79084.10       0                0              1  "
          },
          "execution_count": 25,
          "metadata": {},
          "output_type": "execute_result"
        }
      ],
      "source": [
        "df.head()"
      ]
    }
  ],
  "metadata": {
    "accelerator": "GPU",
    "colab": {
      "collapsed_sections": [],
      "name": "Project DE CANDIDO Bank Churn.ipynb",
      "provenance": []
    },
    "kernelspec": {
      "display_name": "Python 3",
      "language": "python",
      "name": "python3"
    },
    "language_info": {
      "codemirror_mode": {
        "name": "ipython",
        "version": 3
      },
      "file_extension": ".py",
      "mimetype": "text/x-python",
      "name": "python",
      "nbconvert_exporter": "python",
      "pygments_lexer": "ipython3",
      "version": "3.8.5"
    }
  },
  "nbformat": 4,
  "nbformat_minor": 0
}