{
  "cells": [
    {
      "cell_type": "markdown",
      "metadata": {
        "id": "U9G31GzTneH-"
      },
      "source": [
        "# Importing the data"
      ]
    },
    {
      "cell_type": "code",
      "execution_count": 1,
      "metadata": {
        "id": "EXllmHlFhjY7"
      },
      "outputs": [],
      "source": [
        "# First we import the library we will need\n",
        "import numpy as np\n",
        "import pandas as pd\n",
        "#from google.colab import drive\n",
        "import tensorflow as tf\n",
        "#import torch\n",
        "#import torch.nn as nn\n",
        "from sklearn.metrics import confusion_matrix\n",
        "import seaborn as sns\n",
        "import matplotlib.pyplot as plt\n",
        "import keras_tuner as kt\n",
        "\n",
        "%matplotlib inline"
      ]
    },
    {
      "cell_type": "code",
      "execution_count": 2,
      "metadata": {
        "id": "YGAzqfqqjcbG"
      },
      "outputs": [],
      "source": [
        "# Define the file path and import the datas in a pandas dataframe named df\n",
        "path = 'C:/Users/JF5191/Documents/DSTI/ML Python Labs/ML_PythonLabs/DOCKER_PYTHON/python_code/Churn_Modelling.csv'"
      ]
    },
    {
      "cell_type": "code",
      "execution_count": 3,
      "metadata": {
        "colab": {
          "base_uri": "https://localhost:8080/",
          "height": 206
        },
        "id": "LHth9RME5d85",
        "outputId": "e4ef6b90-eef2-4a5e-f729-888a56655dac"
      },
      "outputs": [
        {
          "data": {
            "text/html": [
              "<div>\n",
              "<style scoped>\n",
              "    .dataframe tbody tr th:only-of-type {\n",
              "        vertical-align: middle;\n",
              "    }\n",
              "\n",
              "    .dataframe tbody tr th {\n",
              "        vertical-align: top;\n",
              "    }\n",
              "\n",
              "    .dataframe thead th {\n",
              "        text-align: right;\n",
              "    }\n",
              "</style>\n",
              "<table border=\"1\" class=\"dataframe\">\n",
              "  <thead>\n",
              "    <tr style=\"text-align: right;\">\n",
              "      <th></th>\n",
              "      <th>RowNumber</th>\n",
              "      <th>CustomerId</th>\n",
              "      <th>Surname</th>\n",
              "      <th>CreditScore</th>\n",
              "      <th>Geography</th>\n",
              "      <th>Gender</th>\n",
              "      <th>Age</th>\n",
              "      <th>Tenure</th>\n",
              "      <th>Balance</th>\n",
              "      <th>NumOfProducts</th>\n",
              "      <th>HasCrCard</th>\n",
              "      <th>IsActiveMember</th>\n",
              "      <th>EstimatedSalary</th>\n",
              "      <th>Exited</th>\n",
              "    </tr>\n",
              "  </thead>\n",
              "  <tbody>\n",
              "    <tr>\n",
              "      <th>0</th>\n",
              "      <td>1</td>\n",
              "      <td>15634602</td>\n",
              "      <td>Hargrave</td>\n",
              "      <td>619</td>\n",
              "      <td>France</td>\n",
              "      <td>Female</td>\n",
              "      <td>42</td>\n",
              "      <td>2</td>\n",
              "      <td>0.00</td>\n",
              "      <td>1</td>\n",
              "      <td>1</td>\n",
              "      <td>1</td>\n",
              "      <td>101348.88</td>\n",
              "      <td>1</td>\n",
              "    </tr>\n",
              "    <tr>\n",
              "      <th>1</th>\n",
              "      <td>2</td>\n",
              "      <td>15647311</td>\n",
              "      <td>Hill</td>\n",
              "      <td>608</td>\n",
              "      <td>Spain</td>\n",
              "      <td>Female</td>\n",
              "      <td>41</td>\n",
              "      <td>1</td>\n",
              "      <td>83807.86</td>\n",
              "      <td>1</td>\n",
              "      <td>0</td>\n",
              "      <td>1</td>\n",
              "      <td>112542.58</td>\n",
              "      <td>0</td>\n",
              "    </tr>\n",
              "    <tr>\n",
              "      <th>2</th>\n",
              "      <td>3</td>\n",
              "      <td>15619304</td>\n",
              "      <td>Onio</td>\n",
              "      <td>502</td>\n",
              "      <td>France</td>\n",
              "      <td>Female</td>\n",
              "      <td>42</td>\n",
              "      <td>8</td>\n",
              "      <td>159660.80</td>\n",
              "      <td>3</td>\n",
              "      <td>1</td>\n",
              "      <td>0</td>\n",
              "      <td>113931.57</td>\n",
              "      <td>1</td>\n",
              "    </tr>\n",
              "    <tr>\n",
              "      <th>3</th>\n",
              "      <td>4</td>\n",
              "      <td>15701354</td>\n",
              "      <td>Boni</td>\n",
              "      <td>699</td>\n",
              "      <td>France</td>\n",
              "      <td>Female</td>\n",
              "      <td>39</td>\n",
              "      <td>1</td>\n",
              "      <td>0.00</td>\n",
              "      <td>2</td>\n",
              "      <td>0</td>\n",
              "      <td>0</td>\n",
              "      <td>93826.63</td>\n",
              "      <td>0</td>\n",
              "    </tr>\n",
              "    <tr>\n",
              "      <th>4</th>\n",
              "      <td>5</td>\n",
              "      <td>15737888</td>\n",
              "      <td>Mitchell</td>\n",
              "      <td>850</td>\n",
              "      <td>Spain</td>\n",
              "      <td>Female</td>\n",
              "      <td>43</td>\n",
              "      <td>2</td>\n",
              "      <td>125510.82</td>\n",
              "      <td>1</td>\n",
              "      <td>1</td>\n",
              "      <td>1</td>\n",
              "      <td>79084.10</td>\n",
              "      <td>0</td>\n",
              "    </tr>\n",
              "  </tbody>\n",
              "</table>\n",
              "</div>"
            ],
            "text/plain": [
              "   RowNumber  CustomerId   Surname  CreditScore Geography  Gender  Age  \\\n",
              "0          1    15634602  Hargrave          619    France  Female   42   \n",
              "1          2    15647311      Hill          608     Spain  Female   41   \n",
              "2          3    15619304      Onio          502    France  Female   42   \n",
              "3          4    15701354      Boni          699    France  Female   39   \n",
              "4          5    15737888  Mitchell          850     Spain  Female   43   \n",
              "\n",
              "   Tenure    Balance  NumOfProducts  HasCrCard  IsActiveMember  \\\n",
              "0       2       0.00              1          1               1   \n",
              "1       1   83807.86              1          0               1   \n",
              "2       8  159660.80              3          1               0   \n",
              "3       1       0.00              2          0               0   \n",
              "4       2  125510.82              1          1               1   \n",
              "\n",
              "   EstimatedSalary  Exited  \n",
              "0        101348.88       1  \n",
              "1        112542.58       0  \n",
              "2        113931.57       1  \n",
              "3         93826.63       0  \n",
              "4         79084.10       0  "
            ]
          },
          "execution_count": 3,
          "metadata": {},
          "output_type": "execute_result"
        }
      ],
      "source": [
        "df = pd.read_csv(path)\n",
        "df.head()"
      ]
    },
    {
      "cell_type": "markdown",
      "metadata": {
        "id": "lfZ4BMwYnisA"
      },
      "source": [
        "# Analysing the dataset"
      ]
    },
    {
      "cell_type": "code",
      "execution_count": 4,
      "metadata": {
        "colab": {
          "base_uri": "https://localhost:8080/"
        },
        "id": "2e3gb729kDNO",
        "outputId": "f96f080c-db01-4708-99d2-b8d15101809e"
      },
      "outputs": [
        {
          "data": {
            "text/plain": [
              "(10000, 14)"
            ]
          },
          "execution_count": 4,
          "metadata": {},
          "output_type": "execute_result"
        }
      ],
      "source": [
        "df.shape"
      ]
    },
    {
      "cell_type": "code",
      "execution_count": 5,
      "metadata": {},
      "outputs": [
        {
          "data": {
            "text/html": [
              "<div>\n",
              "<style scoped>\n",
              "    .dataframe tbody tr th:only-of-type {\n",
              "        vertical-align: middle;\n",
              "    }\n",
              "\n",
              "    .dataframe tbody tr th {\n",
              "        vertical-align: top;\n",
              "    }\n",
              "\n",
              "    .dataframe thead th {\n",
              "        text-align: right;\n",
              "    }\n",
              "</style>\n",
              "<table border=\"1\" class=\"dataframe\">\n",
              "  <thead>\n",
              "    <tr style=\"text-align: right;\">\n",
              "      <th></th>\n",
              "      <th>RowNumber</th>\n",
              "      <th>CustomerId</th>\n",
              "      <th>Surname</th>\n",
              "      <th>CreditScore</th>\n",
              "      <th>Geography</th>\n",
              "      <th>Gender</th>\n",
              "      <th>Age</th>\n",
              "      <th>Tenure</th>\n",
              "      <th>Balance</th>\n",
              "      <th>NumOfProducts</th>\n",
              "      <th>HasCrCard</th>\n",
              "      <th>IsActiveMember</th>\n",
              "      <th>EstimatedSalary</th>\n",
              "      <th>Exited</th>\n",
              "    </tr>\n",
              "  </thead>\n",
              "  <tbody>\n",
              "    <tr>\n",
              "      <th>0</th>\n",
              "      <td>1</td>\n",
              "      <td>15634602</td>\n",
              "      <td>Hargrave</td>\n",
              "      <td>619</td>\n",
              "      <td>France</td>\n",
              "      <td>Female</td>\n",
              "      <td>42</td>\n",
              "      <td>2</td>\n",
              "      <td>0.00</td>\n",
              "      <td>1</td>\n",
              "      <td>1</td>\n",
              "      <td>1</td>\n",
              "      <td>101348.88</td>\n",
              "      <td>1</td>\n",
              "    </tr>\n",
              "    <tr>\n",
              "      <th>2</th>\n",
              "      <td>3</td>\n",
              "      <td>15619304</td>\n",
              "      <td>Onio</td>\n",
              "      <td>502</td>\n",
              "      <td>France</td>\n",
              "      <td>Female</td>\n",
              "      <td>42</td>\n",
              "      <td>8</td>\n",
              "      <td>159660.80</td>\n",
              "      <td>3</td>\n",
              "      <td>1</td>\n",
              "      <td>0</td>\n",
              "      <td>113931.57</td>\n",
              "      <td>1</td>\n",
              "    </tr>\n",
              "    <tr>\n",
              "      <th>5</th>\n",
              "      <td>6</td>\n",
              "      <td>15574012</td>\n",
              "      <td>Chu</td>\n",
              "      <td>645</td>\n",
              "      <td>Spain</td>\n",
              "      <td>Male</td>\n",
              "      <td>44</td>\n",
              "      <td>8</td>\n",
              "      <td>113755.78</td>\n",
              "      <td>2</td>\n",
              "      <td>1</td>\n",
              "      <td>0</td>\n",
              "      <td>149756.71</td>\n",
              "      <td>1</td>\n",
              "    </tr>\n",
              "    <tr>\n",
              "      <th>7</th>\n",
              "      <td>8</td>\n",
              "      <td>15656148</td>\n",
              "      <td>Obinna</td>\n",
              "      <td>376</td>\n",
              "      <td>Germany</td>\n",
              "      <td>Female</td>\n",
              "      <td>29</td>\n",
              "      <td>4</td>\n",
              "      <td>115046.74</td>\n",
              "      <td>4</td>\n",
              "      <td>1</td>\n",
              "      <td>0</td>\n",
              "      <td>119346.88</td>\n",
              "      <td>1</td>\n",
              "    </tr>\n",
              "    <tr>\n",
              "      <th>16</th>\n",
              "      <td>17</td>\n",
              "      <td>15737452</td>\n",
              "      <td>Romeo</td>\n",
              "      <td>653</td>\n",
              "      <td>Germany</td>\n",
              "      <td>Male</td>\n",
              "      <td>58</td>\n",
              "      <td>1</td>\n",
              "      <td>132602.88</td>\n",
              "      <td>1</td>\n",
              "      <td>1</td>\n",
              "      <td>0</td>\n",
              "      <td>5097.67</td>\n",
              "      <td>1</td>\n",
              "    </tr>\n",
              "    <tr>\n",
              "      <th>...</th>\n",
              "      <td>...</td>\n",
              "      <td>...</td>\n",
              "      <td>...</td>\n",
              "      <td>...</td>\n",
              "      <td>...</td>\n",
              "      <td>...</td>\n",
              "      <td>...</td>\n",
              "      <td>...</td>\n",
              "      <td>...</td>\n",
              "      <td>...</td>\n",
              "      <td>...</td>\n",
              "      <td>...</td>\n",
              "      <td>...</td>\n",
              "      <td>...</td>\n",
              "    </tr>\n",
              "    <tr>\n",
              "      <th>9981</th>\n",
              "      <td>9982</td>\n",
              "      <td>15672754</td>\n",
              "      <td>Burbidge</td>\n",
              "      <td>498</td>\n",
              "      <td>Germany</td>\n",
              "      <td>Male</td>\n",
              "      <td>42</td>\n",
              "      <td>3</td>\n",
              "      <td>152039.70</td>\n",
              "      <td>1</td>\n",
              "      <td>1</td>\n",
              "      <td>1</td>\n",
              "      <td>53445.17</td>\n",
              "      <td>1</td>\n",
              "    </tr>\n",
              "    <tr>\n",
              "      <th>9982</th>\n",
              "      <td>9983</td>\n",
              "      <td>15768163</td>\n",
              "      <td>Griffin</td>\n",
              "      <td>655</td>\n",
              "      <td>Germany</td>\n",
              "      <td>Female</td>\n",
              "      <td>46</td>\n",
              "      <td>7</td>\n",
              "      <td>137145.12</td>\n",
              "      <td>1</td>\n",
              "      <td>1</td>\n",
              "      <td>0</td>\n",
              "      <td>115146.40</td>\n",
              "      <td>1</td>\n",
              "    </tr>\n",
              "    <tr>\n",
              "      <th>9991</th>\n",
              "      <td>9992</td>\n",
              "      <td>15769959</td>\n",
              "      <td>Ajuluchukwu</td>\n",
              "      <td>597</td>\n",
              "      <td>France</td>\n",
              "      <td>Female</td>\n",
              "      <td>53</td>\n",
              "      <td>4</td>\n",
              "      <td>88381.21</td>\n",
              "      <td>1</td>\n",
              "      <td>1</td>\n",
              "      <td>0</td>\n",
              "      <td>69384.71</td>\n",
              "      <td>1</td>\n",
              "    </tr>\n",
              "    <tr>\n",
              "      <th>9997</th>\n",
              "      <td>9998</td>\n",
              "      <td>15584532</td>\n",
              "      <td>Liu</td>\n",
              "      <td>709</td>\n",
              "      <td>France</td>\n",
              "      <td>Female</td>\n",
              "      <td>36</td>\n",
              "      <td>7</td>\n",
              "      <td>0.00</td>\n",
              "      <td>1</td>\n",
              "      <td>0</td>\n",
              "      <td>1</td>\n",
              "      <td>42085.58</td>\n",
              "      <td>1</td>\n",
              "    </tr>\n",
              "    <tr>\n",
              "      <th>9998</th>\n",
              "      <td>9999</td>\n",
              "      <td>15682355</td>\n",
              "      <td>Sabbatini</td>\n",
              "      <td>772</td>\n",
              "      <td>Germany</td>\n",
              "      <td>Male</td>\n",
              "      <td>42</td>\n",
              "      <td>3</td>\n",
              "      <td>75075.31</td>\n",
              "      <td>2</td>\n",
              "      <td>1</td>\n",
              "      <td>0</td>\n",
              "      <td>92888.52</td>\n",
              "      <td>1</td>\n",
              "    </tr>\n",
              "  </tbody>\n",
              "</table>\n",
              "<p>2037 rows × 14 columns</p>\n",
              "</div>"
            ],
            "text/plain": [
              "      RowNumber  CustomerId      Surname  CreditScore Geography  Gender  Age  \\\n",
              "0             1    15634602     Hargrave          619    France  Female   42   \n",
              "2             3    15619304         Onio          502    France  Female   42   \n",
              "5             6    15574012          Chu          645     Spain    Male   44   \n",
              "7             8    15656148       Obinna          376   Germany  Female   29   \n",
              "16           17    15737452        Romeo          653   Germany    Male   58   \n",
              "...         ...         ...          ...          ...       ...     ...  ...   \n",
              "9981       9982    15672754     Burbidge          498   Germany    Male   42   \n",
              "9982       9983    15768163      Griffin          655   Germany  Female   46   \n",
              "9991       9992    15769959  Ajuluchukwu          597    France  Female   53   \n",
              "9997       9998    15584532          Liu          709    France  Female   36   \n",
              "9998       9999    15682355    Sabbatini          772   Germany    Male   42   \n",
              "\n",
              "      Tenure    Balance  NumOfProducts  HasCrCard  IsActiveMember  \\\n",
              "0          2       0.00              1          1               1   \n",
              "2          8  159660.80              3          1               0   \n",
              "5          8  113755.78              2          1               0   \n",
              "7          4  115046.74              4          1               0   \n",
              "16         1  132602.88              1          1               0   \n",
              "...      ...        ...            ...        ...             ...   \n",
              "9981       3  152039.70              1          1               1   \n",
              "9982       7  137145.12              1          1               0   \n",
              "9991       4   88381.21              1          1               0   \n",
              "9997       7       0.00              1          0               1   \n",
              "9998       3   75075.31              2          1               0   \n",
              "\n",
              "      EstimatedSalary  Exited  \n",
              "0           101348.88       1  \n",
              "2           113931.57       1  \n",
              "5           149756.71       1  \n",
              "7           119346.88       1  \n",
              "16            5097.67       1  \n",
              "...               ...     ...  \n",
              "9981         53445.17       1  \n",
              "9982        115146.40       1  \n",
              "9991         69384.71       1  \n",
              "9997         42085.58       1  \n",
              "9998         92888.52       1  \n",
              "\n",
              "[2037 rows x 14 columns]"
            ]
          },
          "execution_count": 5,
          "metadata": {},
          "output_type": "execute_result"
        }
      ],
      "source": [
        "df[df['Exited']==1]"
      ]
    },
    {
      "cell_type": "markdown",
      "metadata": {
        "id": "0QVBlWsnnnpZ"
      },
      "source": [
        "we have 10 000 samples with 13 features (Rownumber is not considered as a usable feature)"
      ]
    },
    {
      "cell_type": "code",
      "execution_count": 6,
      "metadata": {
        "colab": {
          "base_uri": "https://localhost:8080/"
        },
        "id": "G9Y8Xpy6jjdy",
        "outputId": "70c71fad-04cc-46bf-98e7-c0a93d2388bc"
      },
      "outputs": [
        {
          "name": "stdout",
          "output_type": "stream",
          "text": [
            "<class 'pandas.core.frame.DataFrame'>\n",
            "RangeIndex: 10000 entries, 0 to 9999\n",
            "Data columns (total 14 columns):\n",
            " #   Column           Non-Null Count  Dtype  \n",
            "---  ------           --------------  -----  \n",
            " 0   RowNumber        10000 non-null  int64  \n",
            " 1   CustomerId       10000 non-null  int64  \n",
            " 2   Surname          10000 non-null  object \n",
            " 3   CreditScore      10000 non-null  int64  \n",
            " 4   Geography        10000 non-null  object \n",
            " 5   Gender           10000 non-null  object \n",
            " 6   Age              10000 non-null  int64  \n",
            " 7   Tenure           10000 non-null  int64  \n",
            " 8   Balance          10000 non-null  float64\n",
            " 9   NumOfProducts    10000 non-null  int64  \n",
            " 10  HasCrCard        10000 non-null  int64  \n",
            " 11  IsActiveMember   10000 non-null  int64  \n",
            " 12  EstimatedSalary  10000 non-null  float64\n",
            " 13  Exited           10000 non-null  int64  \n",
            "dtypes: float64(2), int64(9), object(3)\n",
            "memory usage: 1.1+ MB\n"
          ]
        }
      ],
      "source": [
        "df.info()"
      ]
    },
    {
      "cell_type": "markdown",
      "metadata": {
        "id": "qIYLl_toooN8"
      },
      "source": [
        "There is 3 categorical features (to be transformed later) and the remaining data are numerical features.\n",
        "Let's now check if there is some missing values."
      ]
    },
    {
      "cell_type": "code",
      "execution_count": 7,
      "metadata": {
        "colab": {
          "base_uri": "https://localhost:8080/"
        },
        "id": "iDImtoGqoluY",
        "outputId": "8f5e3137-cb47-4afa-f368-e051932f1e03"
      },
      "outputs": [
        {
          "data": {
            "text/plain": [
              "RowNumber          0\n",
              "CustomerId         0\n",
              "Surname            0\n",
              "CreditScore        0\n",
              "Geography          0\n",
              "Gender             0\n",
              "Age                0\n",
              "Tenure             0\n",
              "Balance            0\n",
              "NumOfProducts      0\n",
              "HasCrCard          0\n",
              "IsActiveMember     0\n",
              "EstimatedSalary    0\n",
              "Exited             0\n",
              "dtype: int64"
            ]
          },
          "execution_count": 7,
          "metadata": {},
          "output_type": "execute_result"
        }
      ],
      "source": [
        "df.isnull().sum()"
      ]
    },
    {
      "cell_type": "markdown",
      "metadata": {
        "id": "xte29dXP-wO-"
      },
      "source": [
        "Let's check the number of unique value."
      ]
    },
    {
      "cell_type": "code",
      "execution_count": 8,
      "metadata": {
        "colab": {
          "base_uri": "https://localhost:8080/"
        },
        "id": "VpW_CxPi-fwL",
        "outputId": "9f2aa143-d624-4610-f924-80ddce15654a"
      },
      "outputs": [
        {
          "data": {
            "text/plain": [
              "RowNumber          10000\n",
              "CustomerId         10000\n",
              "Surname             2932\n",
              "CreditScore          460\n",
              "Geography              3\n",
              "Gender                 2\n",
              "Age                   70\n",
              "Tenure                11\n",
              "Balance             6382\n",
              "NumOfProducts          4\n",
              "HasCrCard              2\n",
              "IsActiveMember         2\n",
              "EstimatedSalary     9999\n",
              "Exited                 2\n",
              "dtype: int64"
            ]
          },
          "execution_count": 8,
          "metadata": {},
          "output_type": "execute_result"
        }
      ],
      "source": [
        "df.nunique()"
      ]
    },
    {
      "cell_type": "markdown",
      "metadata": {},
      "source": [
        "Let's do EDA in order to better understand the dataset"
      ]
    },
    {
      "cell_type": "code",
      "execution_count": 10,
      "metadata": {},
      "outputs": [
        {
          "name": "stdout",
          "output_type": "stream",
          "text": [
            "Ratio of people who churned: 0.2\n",
            "Ratio of male in the dataset: 0.55\n",
            "Ratio of male in the churned people: 0.44\n"
          ]
        }
      ],
      "source": [
        "print(f\"Ratio of people who churned: {round(len(df[df['Exited']== 1])/len(df),2)}\")\n",
        "print(f\"Ratio of male in the dataset: {round(len(df[df['Gender']=='Male'])/len(df),2)}\")\n",
        "print(f\"Ratio of male in the churned people: {round(len(df[(df['Gender']=='Male') & (df['Exited']==1)]) / len(df[df['Exited']==1]),2)}\")"
      ]
    },
    {
      "cell_type": "markdown",
      "metadata": {},
      "source": [
        "It seems that women are more likely to churn that men (smaller ration in the global dataset but higher ratio in the churned people).\n",
        "Let's now study the 'Geogrpahy' feature."
      ]
    },
    {
      "cell_type": "code",
      "execution_count": 11,
      "metadata": {},
      "outputs": [
        {
          "data": {
            "text/plain": [
              "France     0.50\n",
              "Germany    0.25\n",
              "Spain      0.25\n",
              "Name: Geography, dtype: float64"
            ]
          },
          "execution_count": 11,
          "metadata": {},
          "output_type": "execute_result"
        }
      ],
      "source": [
        "round(df['Geography'].value_counts()/len(df),2)"
      ]
    },
    {
      "cell_type": "markdown",
      "metadata": {},
      "source": [
        "There is more data for France than for Germany and Spain... This will lead to use the stratify option in the train / test split function in order to keep the same ratio in the training phase."
      ]
    },
    {
      "cell_type": "markdown",
      "metadata": {},
      "source": [
        "Let's compare the distribution of the numerical features CreditScore, Age, Tenure, Balance and Estimated Salary"
      ]
    },
    {
      "cell_type": "code",
      "execution_count": 12,
      "metadata": {},
      "outputs": [
        {
          "data": {
            "image/png": "[encoded data removed]",
            "text/plain": [
              "<Figure size 1440x360 with 5 Axes>"
            ]
          },
          "metadata": {
            "needs_background": "light"
          },
          "output_type": "display_data"
        }
      ],
      "source": [
        "boxplot_col_names = ['CreditScore', 'Age','Tenure','Balance','EstimatedSalary']\n",
        "ncols = len(boxplot_col_names)\n",
        "fig, axes = plt.subplots(1,ncols)\n",
        "fig.set_size_inches(20,5)\n",
        "\n",
        "for name, ax in zip(boxplot_col_names, axes.flatten()):\n",
        "    sns.violinplot(y = name, x = \"Exited\" , data = df, orient = 'v', ax = ax)\n",
        "plt.tight_layout()"
      ]
    },
    {
      "cell_type": "markdown",
      "metadata": {},
      "source": [
        "The distributions above show that age and balance an have an impact on the churn:\n",
        "- churners are older than non-churners (around 10 years older: median 45 vs 35),\n",
        "- small balance are more likeky not to churn than high balance."
      ]
    },
    {
      "cell_type": "markdown",
      "metadata": {},
      "source": [
        "Let's now check the categorical or binary features: NumOfProducts, HasCrCard and IsActiveMember"
      ]
    },
    {
      "cell_type": "code",
      "execution_count": 13,
      "metadata": {},
      "outputs": [
        {
          "data": {
            "image/png": "[encoded data removed]",
            "text/plain": [
              "<Figure size 432x288 with 1 Axes>"
            ]
          },
          "metadata": {
            "needs_background": "light"
          },
          "output_type": "display_data"
        }
      ],
      "source": [
        "sns.countplot(x = 'Exited', hue = 'NumOfProducts', data = df);"
      ]
    },
    {
      "cell_type": "code",
      "execution_count": 15,
      "metadata": {},
      "outputs": [
        {
          "name": "stdout",
          "output_type": "stream",
          "text": [
            "# of product ratio for people who have not churned: \n",
            "2    0.53\n",
            "1    0.46\n",
            "3    0.01\n",
            "Name: NumOfProducts, dtype: float64\n"
          ]
        }
      ],
      "source": [
        "print(f\"# of product ratio for people who have NOT churned: \\n{round(df[df['Exited']==0]['NumOfProducts'].value_counts() / len(df[df['Exited']==0]),2)}\")"
      ]
    },
    {
      "cell_type": "code",
      "execution_count": 16,
      "metadata": {},
      "outputs": [
        {
          "name": "stdout",
          "output_type": "stream",
          "text": [
            "# of product ratio for people who have churned: \n",
            "1    0.69\n",
            "2    0.17\n",
            "3    0.11\n",
            "4    0.03\n",
            "Name: NumOfProducts, dtype: float64\n"
          ]
        }
      ],
      "source": [
        "print(f\"# of product ratio for people who have churned: \\n{round(df[df['Exited']==1]['NumOfProducts'].value_counts() / len(df[df['Exited']==1]),2)}\")"
      ]
    },
    {
      "cell_type": "markdown",
      "metadata": {},
      "source": [
        "People with 1, 3 and 4 products are more likely to churn than people with 2 products due to the ratio change."
      ]
    },
    {
      "cell_type": "code",
      "execution_count": 75,
      "metadata": {},
      "outputs": [
        {
          "data": {
            "image/png": "[encoded data removed]",
            "text/plain": [
              "<Figure size 432x288 with 1 Axes>"
            ]
          },
          "metadata": {
            "needs_background": "light"
          },
          "output_type": "display_data"
        }
      ],
      "source": [
        "sns.countplot(x = 'Exited', hue = 'HasCrCard', data = df);"
      ]
    },
    {
      "cell_type": "code",
      "execution_count": 18,
      "metadata": {},
      "outputs": [
        {
          "name": "stdout",
          "output_type": "stream",
          "text": [
            "Ratio of people having not churned and a credit card\n",
            "1    0.71\n",
            "0    0.29\n",
            "Name: HasCrCard, dtype: float64\n"
          ]
        }
      ],
      "source": [
        "print(f\"Ratio of people having NOT churned and a credit card\\n{round(df[df['Exited']==0]['HasCrCard'].value_counts() / len(df[df['Exited']==0]),2)}\")"
      ]
    },
    {
      "cell_type": "code",
      "execution_count": 20,
      "metadata": {},
      "outputs": [
        {
          "name": "stdout",
          "output_type": "stream",
          "text": [
            "Ratio of people having churned and a credit card\n",
            "1    0.7\n",
            "0    0.3\n",
            "Name: HasCrCard, dtype: float64\n"
          ]
        }
      ],
      "source": [
        "print(f\"Ratio of people having churned and a credit card\\n{round(df[df['Exited']==1]['HasCrCard'].value_counts() / len(df[df['Exited']==1]),2)}\")"
      ]
    },
    {
      "cell_type": "markdown",
      "metadata": {},
      "source": [
        "Credit card seems to have a very low impact the ratio being the same for churned and not churned people."
      ]
    },
    {
      "cell_type": "code",
      "execution_count": 78,
      "metadata": {},
      "outputs": [
        {
          "data": {
            "image/png": "[encoded data removed]",
            "text/plain": [
              "<Figure size 432x288 with 1 Axes>"
            ]
          },
          "metadata": {
            "needs_background": "light"
          },
          "output_type": "display_data"
        }
      ],
      "source": [
        "sns.countplot(x = 'Exited', hue = 'IsActiveMember', data = df);"
      ]
    },
    {
      "cell_type": "code",
      "execution_count": 24,
      "metadata": {},
      "outputs": [
        {
          "name": "stdout",
          "output_type": "stream",
          "text": [
            "Ratio of people having NOT churned and are active\n",
            "1    0.55\n",
            "0    0.45\n",
            "Name: IsActiveMember, dtype: float64\n"
          ]
        }
      ],
      "source": [
        "print(f\"Ratio of people having NOT churned and are active\\n{round(df[df['Exited']==0]['IsActiveMember'].value_counts() / len(df[df['Exited']==0]),2)}\")"
      ]
    },
    {
      "cell_type": "code",
      "execution_count": 25,
      "metadata": {},
      "outputs": [
        {
          "name": "stdout",
          "output_type": "stream",
          "text": [
            "Ratio of people having churned and are active\n",
            "0    0.64\n",
            "1    0.36\n",
            "Name: IsActiveMember, dtype: float64\n"
          ]
        }
      ],
      "source": [
        "print(f\"Ratio of people having churned and are active\\n{round(df[df['Exited']==1]['IsActiveMember'].value_counts() / len(df[df['Exited']==1]),2)}\")"
      ]
    },
    {
      "cell_type": "markdown",
      "metadata": {},
      "source": [
        "People non active seems to be more likely to churn (increasing ratio)"
      ]
    },
    {
      "cell_type": "markdown",
      "metadata": {
        "id": "tCjXdgWWE1V-"
      },
      "source": [
        "# Modelling\n"
      ]
    },
    {
      "cell_type": "markdown",
      "metadata": {
        "id": "5zfziGHIstnA"
      },
      "source": [
        "We map the gender columns as a binary value because we can't use an object/categorical data as an input for the model.\n",
        "We also one-hot encode the Geography feature so that we can use these categorical features in a model.\n",
        "\n",
        "We then remove the unneeded columns ('RowNumber','CustomerId','Surname': because they are not usabel for the model, 'Exited' because it is the label (Y)  and 'Geography' because we just one-hot encoded it) and create the X dataset and the label dataset (Y) (we are working on a supervised model)."
      ]
    },
    {
      "cell_type": "code",
      "execution_count": 27,
      "metadata": {
        "id": "FU-Ml6zni0JP"
      },
      "outputs": [],
      "source": [
        "df['Gender'] = df['Gender'].map({'Female': 0, 'Male':1}) # mapping gender\n",
        "df = pd.concat([df,pd.get_dummies(df['Geography'], prefix = 'country',\n",
        "              drop_first= True)], axis = 1) # One-hot encoding Geography feature\n",
        "\n",
        "df_X = df.drop(['Geography','Exited','RowNumber','CustomerId','Surname'],\n",
        "            axis = 1)\n",
        "X = df_X.values # creating X dataset\n",
        "Y = df['Exited'].values # creating Y label"
      ]
    },
    {
      "cell_type": "markdown",
      "metadata": {},
      "source": [
        "Now we split the datas in train / test  dataset using stratification due to unbalanced dataset over Geography and Gender for ex."
      ]
    },
    {
      "cell_type": "code",
      "execution_count": 28,
      "metadata": {
        "id": "YtGNPRIL9EHn"
      },
      "outputs": [],
      "source": [
        "#split the data into training and test set (20% for the test set)\n",
        "\n",
        "from sklearn.model_selection import train_test_split\n",
        "X_train, X_test, Y_train, Y_test = train_test_split(X, Y, test_size=0.2,\n",
        "                        random_state = 10, stratify=Y)\n",
        "# we use random_state to make sure spliting contains the same data each time\n",
        "# (the train/test dataset will have the same rows each time)"
      ]
    },
    {
      "cell_type": "code",
      "execution_count": 29,
      "metadata": {
        "colab": {
          "base_uri": "https://localhost:8080/"
        },
        "id": "5HsnMazqPcL8",
        "outputId": "8f1409bb-8163-4dba-b704-7d9b568d8063"
      },
      "outputs": [
        {
          "data": {
            "text/plain": [
              "array([0, 0, 0, ..., 0, 0, 1], dtype=int64)"
            ]
          },
          "execution_count": 29,
          "metadata": {},
          "output_type": "execute_result"
        }
      ],
      "source": [
        "Y_train"
      ]
    },
    {
      "cell_type": "code",
      "execution_count": 30,
      "metadata": {
        "id": "VXP0DJZp9dbW"
      },
      "outputs": [],
      "source": [
        "# standardize the data (x_standardised = (x - x_mean)/std_dev)\n",
        "\n",
        "from sklearn.preprocessing import StandardScaler\n",
        "sc = StandardScaler()\n",
        "X_train = sc.fit_transform(X_train)\n",
        "X_test = sc.transform(X_test) # we use the scale set calculated from the\n",
        "# training set just above and we apply it to transform the test set"
      ]
    },
    {
      "cell_type": "markdown",
      "metadata": {},
      "source": [
        "Let's try ANN with tensorflow"
      ]
    },
    {
      "cell_type": "code",
      "execution_count": 31,
      "metadata": {},
      "outputs": [
        {
          "name": "stdout",
          "output_type": "stream",
          "text": [
            "Epoch 1/10\n",
            "800/800 - 1s - loss: 0.4828 - accuracy: 0.8010 - 1s/epoch - 1ms/step\n",
            "Epoch 2/10\n",
            "800/800 - 1s - loss: 0.4080 - accuracy: 0.8235 - 1s/epoch - 1ms/step\n",
            "Epoch 3/10\n",
            "800/800 - 1s - loss: 0.3937 - accuracy: 0.8298 - 780ms/epoch - 975us/step\n",
            "Epoch 4/10\n",
            "800/800 - 1s - loss: 0.3843 - accuracy: 0.8319 - 644ms/epoch - 805us/step\n",
            "Epoch 5/10\n",
            "800/800 - 1s - loss: 0.3774 - accuracy: 0.8317 - 638ms/epoch - 797us/step\n",
            "Epoch 6/10\n",
            "800/800 - 1s - loss: 0.3716 - accuracy: 0.8435 - 639ms/epoch - 799us/step\n",
            "Epoch 7/10\n",
            "800/800 - 1s - loss: 0.3679 - accuracy: 0.8489 - 643ms/epoch - 803us/step\n",
            "Epoch 8/10\n",
            "800/800 - 1s - loss: 0.3648 - accuracy: 0.8493 - 642ms/epoch - 803us/step\n",
            "Epoch 9/10\n",
            "800/800 - 1s - loss: 0.3612 - accuracy: 0.8524 - 636ms/epoch - 795us/step\n",
            "Epoch 10/10\n",
            "800/800 - 1s - loss: 0.3599 - accuracy: 0.8520 - 967ms/epoch - 1ms/step\n"
          ]
        }
      ],
      "source": [
        "model = tf.keras.models.Sequential()\n",
        "\n",
        "#add input layer  and first hidden layer\n",
        "model.add(tf.keras.layers.Dense(units = 6, kernel_initializer = 'uniform', activation = 'relu')) #initializer=uniform means to all the weights will initialized with the same value\n",
        "\n",
        "#xxx.Dense means that every node is connected with the nodes next to himself\n",
        "\n",
        "#add 2nd hidden layer\n",
        "model.add(tf.keras.layers.Dense(units = 6, kernel_initializer='uniform', activation = 'relu'))\n",
        "\n",
        "# Add output layer\n",
        "model.add(tf.keras.layers.Dense(units = 1, kernel_initializer='uniform', activation='sigmoid')) # sigmoid for binary, Softmax for multiclass\n",
        "\n",
        "# compilation\n",
        "model.compile(optimizer = 'adam', loss = 'binary_crossentropy', metrics = ['accuracy'])\n",
        "\n",
        "# Training\n",
        "history = model.fit(X_train, Y_train, batch_size  = 10, epochs = 10, verbose = 2)"
      ]
    },
    {
      "cell_type": "code",
      "execution_count": 24,
      "metadata": {},
      "outputs": [
        {
          "name": "stdout",
          "output_type": "stream",
          "text": [
            "63/63 [==============================] - 0s 1ms/step\n",
            "[[1534  206]\n",
            " [  59  201]]\n",
            "0.87\n"
          ]
        }
      ],
      "source": [
        "y_ann_pred = model.predict(X_test)\n",
        "y_ann_pred = (y_ann_pred > 0.5)\n",
        "cm_ann = confusion_matrix(y_ann_pred, Y_test)\n",
        "\n",
        "accuracy_ann = round(model.evaluate(X_test, Y_test, verbose = False)[1],2)\n",
        "\n",
        "print(cm_ann)\n",
        "print(accuracy_ann)"
      ]
    },
    {
      "cell_type": "markdown",
      "metadata": {
        "id": "jYYzJ89RpMpS"
      },
      "source": [
        "Let's try logistic regression"
      ]
    },
    {
      "cell_type": "code",
      "execution_count": 25,
      "metadata": {
        "colab": {
          "base_uri": "https://localhost:8080/"
        },
        "id": "DGCDrzbBnc-6",
        "outputId": "a061efcf-707c-46b0-fd9c-d729d940d27f"
      },
      "outputs": [
        {
          "name": "stdout",
          "output_type": "stream",
          "text": [
            "Logistic regression accuracy: 0.812\n"
          ]
        }
      ],
      "source": [
        "from sklearn.linear_model import LogisticRegression\n",
        "logisticRegr = LogisticRegression() # create the model\n",
        "logisticRegr.fit(X_train, Y_train.reshape(8000)) # train the model\n",
        "\n",
        "accuracy_log = logisticRegr.score(X_test, Y_test)\n",
        "\n",
        "print(f'Logistic regression accuracy: {accuracy_log}')"
      ]
    },
    {
      "cell_type": "code",
      "execution_count": 26,
      "metadata": {},
      "outputs": [
        {
          "data": {
            "text/plain": [
              "array([[1536,  319],\n",
              "       [  57,   88]], dtype=int64)"
            ]
          },
          "execution_count": 26,
          "metadata": {},
          "output_type": "execute_result"
        }
      ],
      "source": [
        "y_log_pred = logisticRegr.predict(X_test)\n",
        "cm_logistic = confusion_matrix(y_log_pred, Y_test)\n",
        "cm_logistic"
      ]
    },
    {
      "cell_type": "markdown",
      "metadata": {
        "id": "nO-yE_Rbt0YO"
      },
      "source": [
        "This model is less accurate than the ANN."
      ]
    },
    {
      "cell_type": "code",
      "execution_count": 27,
      "metadata": {
        "colab": {
          "base_uri": "https://localhost:8080/"
        },
        "id": "IUzhU8spwxrw",
        "outputId": "407f132a-556e-4dfc-ca7c-147d5e01899a"
      },
      "outputs": [
        {
          "name": "stdout",
          "output_type": "stream",
          "text": [
            "KNN accuracy: 0.8355\n",
            "[[1522  258]\n",
            " [  71  149]]\n"
          ]
        }
      ],
      "source": [
        "from sklearn.neighbors import KNeighborsClassifier\n",
        "knn = KNeighborsClassifier() # create the model\n",
        "knn.fit(X_train, Y_train.reshape(8000)) # train the model\n",
        "\n",
        "accuracy_knn = knn.score(X_test, Y_test)\n",
        "print(f'KNN accuracy: {accuracy_knn}')\n",
        "\n",
        "\n",
        "y_knn_pred = knn.predict(X_test)\n",
        "cm_knn = confusion_matrix(y_knn_pred, Y_test)\n",
        "print(cm_knn)\n"
      ]
    },
    {
      "cell_type": "markdown",
      "metadata": {
        "id": "Ja9doIEnEx-R"
      },
      "source": [
        "Let's try a decision tree, naive bayes, support vector machine"
      ]
    },
    {
      "cell_type": "markdown",
      "metadata": {},
      "source": [
        "We finally choose the ANN model because it gives more accurate predictions"
      ]
    }
  ],
  "metadata": {
    "accelerator": "GPU",
    "colab": {
      "collapsed_sections": [],
      "name": "Project DE CANDIDO Bank Churn.ipynb",
      "provenance": []
    },
    "interpreter": {
      "hash": "b72f584895f52dc0722900f172240c4a041d4f6e1725f8d9a9e4337860e85ccd"
    },
    "kernelspec": {
      "display_name": "Python 3.8.11 ('base')",
      "language": "python",
      "name": "python3"
    },
    "language_info": {
      "codemirror_mode": {
        "name": "ipython",
        "version": 3
      },
      "file_extension": ".py",
      "mimetype": "text/x-python",
      "name": "python",
      "nbconvert_exporter": "python",
      "pygments_lexer": "ipython3",
      "version": "3.8.11"
    }
  },
  "nbformat": 4,
  "nbformat_minor": 0
}
